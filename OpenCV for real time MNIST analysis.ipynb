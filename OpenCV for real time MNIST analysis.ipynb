{
 "cells": [
  {
   "cell_type": "code",
   "execution_count": 1,
   "id": "4bcb6c69",
   "metadata": {},
   "outputs": [],
   "source": [
    "import cv2 \n",
    "import numpy as np\n",
    "import torch\n",
    "import torchvision\n",
    "import matplotlib.pyplot as plt\n",
    "from time import time\n",
    "from torchvision import datasets, transforms\n",
    "from torch import nn, optim"
   ]
  },
  {
   "cell_type": "code",
   "execution_count": 2,
   "id": "eef486cd",
   "metadata": {
    "scrolled": false
   },
   "outputs": [
    {
     "data": {
      "text/plain": [
       "CNN(\n",
       "  (conv1): Sequential(\n",
       "    (0): Conv2d(1, 16, kernel_size=(5, 5), stride=(1, 1), padding=(2, 2))\n",
       "    (1): ReLU()\n",
       "    (2): MaxPool2d(kernel_size=2, stride=2, padding=0, dilation=1, ceil_mode=False)\n",
       "  )\n",
       "  (conv2): Sequential(\n",
       "    (0): Conv2d(16, 32, kernel_size=(5, 5), stride=(1, 1), padding=(2, 2))\n",
       "    (1): ReLU()\n",
       "    (2): MaxPool2d(kernel_size=2, stride=2, padding=0, dilation=1, ceil_mode=False)\n",
       "  )\n",
       "  (out): Linear(in_features=1568, out_features=10, bias=True)\n",
       ")"
      ]
     },
     "execution_count": 2,
     "metadata": {},
     "output_type": "execute_result"
    }
   ],
   "source": [
    "class CNN(nn.Module):\n",
    "    def __init__(self):\n",
    "        super(CNN, self).__init__()\n",
    "        self.conv1 = nn.Sequential(nn.Conv2d(in_channels=1,out_channels=16,kernel_size=5,stride=1,padding=2,)\n",
    "                                   ,nn.ReLU()\n",
    "                                   ,nn.MaxPool2d(kernel_size=2),)\n",
    "        self.conv2 = nn.Sequential(nn.Conv2d(16, 32, 5, 1, 2),\n",
    "                                   nn.ReLU(),\n",
    "                                   nn.MaxPool2d(2),)\n",
    "        # fully connected layer, output 10 classes\n",
    "        self.out = nn.Linear(32 * 7 * 7, 10)\n",
    "    def forward(self, x):\n",
    "        x = self.conv1(x)\n",
    "        x = self.conv2(x)\n",
    "        # flatten the output of conv2 to (batch_size, 32 * 7 * 7)\n",
    "        x = x.view(x.size(0), -1)       \n",
    "        output = self.out(x)\n",
    "        return output, x    # return x for visualization\n",
    "\n",
    "model = CNN()\n",
    "\n",
    "optimizer = optim.SGD(model.parameters(), lr=0.001) \n",
    "criterion = nn.NLLLoss() #Negative log loss function for n classes\n",
    "\n",
    "\n",
    "model.load_state_dict(torch.load('/Users/admin/Digit_Detector.pt'))\n",
    "model.eval()"
   ]
  },
  {
   "cell_type": "code",
   "execution_count": 3,
   "id": "e6b40e8a",
   "metadata": {},
   "outputs": [
    {
     "name": "stdout",
     "output_type": "stream",
     "text": [
      "Code is running\n",
      "[[ 41  55  77]\n",
      " [ 63 255 255]]\n",
      "tensor(7)\n"
     ]
    }
   ],
   "source": [
    "load_from_sys = True\n",
    "\n",
    "print(\"Code is running\")\n",
    "if load_from_sys:\n",
    "    hsv_value = np.load('hsv_value.npy')\n",
    "    print(hsv_value)\n",
    "\n",
    "cap = cv2.VideoCapture(0)\n",
    "\n",
    "if not cap.isOpened():\n",
    "    print(\"Camera cannot be opened\")\n",
    "    exit()\n",
    "\n",
    "\n",
    "cap.set(3,1280)\n",
    "cap.set(4,720)\n",
    "\n",
    "kernel = np.ones((5,5), np.uint8)\n",
    "canvas = None\n",
    "\n",
    "x1 = 0\n",
    "y1 = 0\n",
    "\n",
    "noise_thresh = 800\n",
    "\n",
    "\n",
    "while True:\n",
    "    ret, frame = cap.read()\n",
    "    \n",
    "    if not ret:\n",
    "        print(\"Can't receive frame (stream end?). Exiting....\")\n",
    "        break\n",
    "        \n",
    "    if canvas is None:\n",
    "        canvas = np.zeros_like(frame)\n",
    "        \n",
    "    hsv = cv2.cvtColor(frame, cv2.COLOR_BGR2HSV)\n",
    "    \n",
    "    if load_from_sys:\n",
    "        lower_range = hsv_value[0]\n",
    "        upper_range = hsv_value[1]\n",
    "        \n",
    "    mask = cv2.inRange(hsv,lower_range, upper_range)\n",
    "    mask = cv2.erode(mask, kernel, iterations = 1)\n",
    "    mask = cv2.dilate(mask, kernel, iterations = 2)\n",
    "    \n",
    "    contours, heirarchy = cv2.findContours(mask, cv2.RETR_EXTERNAL, cv2.CHAIN_APPROX_NONE)\n",
    "    \n",
    "    if contours  and cv2.contourArea(max(contours, key = cv2.contourArea)) > noise_thresh:\n",
    "        c = max(contours, key = cv2.contourArea)\n",
    "        x2, y2 ,w, h = cv2.boundingRect(c)\n",
    "        \n",
    "        if x1 == 0 and y1 == 0:\n",
    "            x1,y1 = x2,y2\n",
    "        \n",
    "        # Draw all contours\n",
    "        # -1 signifies drawing all contours\n",
    "        else:\n",
    "            canvas = cv2.drawContours(frame, contours, -1, (0, 255, 0), 3)\n",
    "            \n",
    "        x1,y1 = x2,y2\n",
    "        \n",
    "    else:\n",
    "        x1,y1 = 0, 0\n",
    "        \n",
    "    frame = cv2.add(frame, canvas)\n",
    "    \n",
    "    stacked = np.hstack((frame, canvas))\n",
    "    cv2.imshow('Canny Edges After Contouring', mask)  \n",
    "    cv2.imshow('Screen_Pen', cv2.resize(stacked, None, fx = 0.6, fy = 0.6))\n",
    "  \n",
    "\n",
    "    if cv2.waitKey(1) == ord(' '):\n",
    "        blw = cv2.cvtColor(canvas, cv2.COLOR_BGR2GRAY)\n",
    "        blw = cv2.resize(mask, (28, 28))\n",
    "        blw = torch.Tensor(blw)\n",
    "        blw = torch.Tensor.view(blw, (1, 1, 28, 28))\n",
    "        y, x = model(blw)\n",
    "        print(torch.max(y, 1)[1].data.squeeze())\n",
    "        break\n",
    "\n",
    "\n",
    "cap.release()\n",
    "cv2.destroyAllWindows()"
   ]
  },
  {
   "cell_type": "markdown",
   "id": "0c1b2e78",
   "metadata": {},
   "source": [
    "##### "
   ]
  }
 ],
 "metadata": {
  "kernelspec": {
   "display_name": "Python 3 (ipykernel)",
   "language": "python",
   "name": "python3"
  },
  "language_info": {
   "codemirror_mode": {
    "name": "ipython",
    "version": 3
   },
   "file_extension": ".py",
   "mimetype": "text/x-python",
   "name": "python",
   "nbconvert_exporter": "python",
   "pygments_lexer": "ipython3",
   "version": "3.11.4"
  }
 },
 "nbformat": 4,
 "nbformat_minor": 5
}
